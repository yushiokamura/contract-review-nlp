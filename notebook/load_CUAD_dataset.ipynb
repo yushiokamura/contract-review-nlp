{
 "cells": [
  {
   "cell_type": "code",
   "execution_count": 1,
   "id": "35a30112-68ce-4c14-9a23-372e3c0651ab",
   "metadata": {},
   "outputs": [],
   "source": [
    "from datasets import load_dataset"
   ]
  },
  {
   "cell_type": "code",
   "execution_count": 2,
   "id": "ec353117-3a1b-43af-ad58-ffafd3ea1df8",
   "metadata": {},
   "outputs": [
    {
     "name": "stderr",
     "output_type": "stream",
     "text": [
      "Downloading builder script: 5.19kB [00:00, 1.66MB/s]                                                                              \n",
      "Downloading metadata: 1.91kB [00:00, 791kB/s]                                                                                     \n",
      "Using custom data configuration default\n"
     ]
    },
    {
     "name": "stdout",
     "output_type": "stream",
     "text": [
      "Downloading and preparing dataset cuad/default (download: 17.46 MiB, generated: 1.55 GiB, post-processed: Unknown size, total: 1.57 GiB) to /Users/yushi_okamura/Work/.cache/huggingface/datasets/cuad/default/1.0.0/01ed7dc61ab84230462731422e77cbb6f54ea8590b22a2d881b594f4d7f3746c...\n"
     ]
    },
    {
     "name": "stderr",
     "output_type": "stream",
     "text": [
      "Downloading data: 100%|██████████████████████████████████████████████████████████████████████| 18.3M/18.3M [00:02<00:00, 7.72MB/s]\n",
      "                                                                                                                                  \r"
     ]
    },
    {
     "name": "stdout",
     "output_type": "stream",
     "text": [
      "Dataset cuad downloaded and prepared to /Users/yushi_okamura/Work/.cache/huggingface/datasets/cuad/default/1.0.0/01ed7dc61ab84230462731422e77cbb6f54ea8590b22a2d881b594f4d7f3746c. Subsequent calls will reuse this data.\n"
     ]
    }
   ],
   "source": [
    "dataset = load_dataset(\"cuad\", split=\"train\")"
   ]
  },
  {
   "cell_type": "code",
   "execution_count": 48,
   "id": "471dc139-f638-4800-bb51-5c5e31a99e4f",
   "metadata": {},
   "outputs": [
    {
     "data": {
      "text/plain": [
       "datasets.arrow_dataset.Dataset"
      ]
     },
     "execution_count": 48,
     "metadata": {},
     "output_type": "execute_result"
    }
   ],
   "source": [
    "type(dataset)"
   ]
  },
  {
   "cell_type": "code",
   "execution_count": 47,
   "id": "30623f6b-ed32-4439-ad0c-2fadf83b5ec8",
   "metadata": {},
   "outputs": [
    {
     "data": {
      "text/plain": [
       "22450"
      ]
     },
     "execution_count": 47,
     "metadata": {},
     "output_type": "execute_result"
    }
   ],
   "source": [
    "len(dataset)"
   ]
  },
  {
   "cell_type": "code",
   "execution_count": 6,
   "id": "f80de4bf-7df2-45ab-82e2-45f3bd458cab",
   "metadata": {},
   "outputs": [
    {
     "data": {
      "text/plain": [
       "dict_keys(['id', 'title', 'context', 'question', 'answers'])"
      ]
     },
     "execution_count": 6,
     "metadata": {},
     "output_type": "execute_result"
    }
   ],
   "source": [
    "dataset[0].keys()"
   ]
  },
  {
   "cell_type": "code",
   "execution_count": 35,
   "id": "38d37761-0160-4d59-b6fe-4e6f35b368a2",
   "metadata": {},
   "outputs": [],
   "source": [
    "def print_qa(index:int):\n",
    "    print(\"----  title ------\")\n",
    "    print(\"\")\n",
    "    print(dataset[index][\"title\"])\n",
    "    print(\"\")\n",
    "    print(\"------- question and answers -------\")\n",
    "    print(\"\")\n",
    "    print(dataset[index][\"question\"])\n",
    "    print(\"\")\n",
    "    print(dataset[index][\"answers\"])\n",
    "    print(\"\")"
   ]
  },
  {
   "cell_type": "code",
   "execution_count": 36,
   "id": "bf024f6f-ed2b-4de7-ab41-498890f9063a",
   "metadata": {},
   "outputs": [
    {
     "name": "stdout",
     "output_type": "stream",
     "text": [
      "----  title ------\n",
      "\n",
      "LIMEENERGYCO_09_09_1999-EX-10-DISTRIBUTOR AGREEMENT\n",
      "\n",
      "------- question and answers -------\n",
      "\n",
      "Highlight the parts (if any) of this contract related to \"Document Name\" that should be reviewed by a lawyer. Details: The name of the contract\n",
      "\n",
      "{'text': ['DISTRIBUTOR AGREEMENT'], 'answer_start': [44]}\n",
      "\n"
     ]
    }
   ],
   "source": [
    "print_qa(0)"
   ]
  },
  {
   "cell_type": "code",
   "execution_count": 37,
   "id": "8f103374-a65e-41e1-8294-2b5f944057cd",
   "metadata": {},
   "outputs": [
    {
     "name": "stdout",
     "output_type": "stream",
     "text": [
      "----  title ------\n",
      "\n",
      "LIMEENERGYCO_09_09_1999-EX-10-DISTRIBUTOR AGREEMENT\n",
      "\n",
      "------- question and answers -------\n",
      "\n",
      "Highlight the parts (if any) of this contract related to \"Parties\" that should be reviewed by a lawyer. Details: The two or more parties who signed the contract\n",
      "\n",
      "{'text': ['Distributor'], 'answer_start': [244]}\n",
      "\n"
     ]
    }
   ],
   "source": [
    "print_qa(1)"
   ]
  },
  {
   "cell_type": "code",
   "execution_count": 38,
   "id": "44b846dc-8f13-4787-b2e4-9a172d99c441",
   "metadata": {},
   "outputs": [
    {
     "name": "stdout",
     "output_type": "stream",
     "text": [
      "----  title ------\n",
      "\n",
      "LIMEENERGYCO_09_09_1999-EX-10-DISTRIBUTOR AGREEMENT\n",
      "\n",
      "------- question and answers -------\n",
      "\n",
      "Highlight the parts (if any) of this contract related to \"Parties\" that should be reviewed by a lawyer. Details: The two or more parties who signed the contract\n",
      "\n",
      "{'text': ['Electric City of Illinois L.L.C.'], 'answer_start': [49574]}\n",
      "\n"
     ]
    }
   ],
   "source": [
    "print_qa(2)"
   ]
  },
  {
   "cell_type": "code",
   "execution_count": null,
   "id": "2a585805-bad0-4148-b005-ab81e429ed40",
   "metadata": {},
   "outputs": [],
   "source": []
  }
 ],
 "metadata": {
  "kernelspec": {
   "display_name": "Python 3 (ipykernel)",
   "language": "python",
   "name": "python3"
  },
  "language_info": {
   "codemirror_mode": {
    "name": "ipython",
    "version": 3
   },
   "file_extension": ".py",
   "mimetype": "text/x-python",
   "name": "python",
   "nbconvert_exporter": "python",
   "pygments_lexer": "ipython3",
   "version": "3.9.5"
  }
 },
 "nbformat": 4,
 "nbformat_minor": 5
}
